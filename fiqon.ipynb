{
  "nbformat": 4,
  "nbformat_minor": 0,
  "metadata": {
    "colab": {
      "provenance": [],
      "authorship_tag": "ABX9TyMZN5kKCVeTPm7iW1Xt5wzn",
      "include_colab_link": true
    },
    "kernelspec": {
      "name": "python3",
      "display_name": "Python 3"
    },
    "language_info": {
      "name": "python"
    }
  },
  "cells": [
    {
      "cell_type": "markdown",
      "metadata": {
        "id": "view-in-github",
        "colab_type": "text"
      },
      "source": [
        "<a href=\"https://colab.research.google.com/github/fernandalarocca/fiqon/blob/main/fiqon.ipynb\" target=\"_parent\"><img src=\"https://colab.research.google.com/assets/colab-badge.svg\" alt=\"Open In Colab\"/></a>"
      ]
    },
    {
      "cell_type": "code",
      "execution_count": 17,
      "metadata": {
        "id": "S_sPV0S4-DjY"
      },
      "outputs": [],
      "source": [
        "import requests\n",
        "from requests.auth import HTTPBasicAuth\n",
        "import base64\n",
        "import pdb\n",
        "import json\n",
        "\n",
        "# Função de Autenticação\n",
        "def autenticar():\n",
        "    # Credenciais\n",
        "    username = \"teste_fiqon\"\n",
        "    password = \"senha@115#\"\n",
        "\n",
        "    # URL de autenticação\n",
        "    url = \"https://instance.fique.online/webhook/merge/88d8701e-a1d6-4fee-b15b-53e90dc1d126/autenticacao/57441afd5a59ccd4c62816683fcc8d665c42bb7b12857fc64a6cace4ababdc67f78c70b044\"\n",
        "\n",
        "    try:\n",
        "        response = requests.post(url, auth=HTTPBasicAuth(username, password))\n",
        "        if response.status_code == 200:\n",
        "            api_token = response.json().get('api_token')\n",
        "            print(\"API Token obtido com sucesso:\", api_token)\n",
        "            return api_token\n",
        "        else:\n",
        "            print(\"Erro ao obter o API Token. Status code:\", response.status_code)\n",
        "            print(\"Response:\", response.text)\n",
        "            return None\n",
        "    except Exception as e:\n",
        "        print(\"Erro durante a autenticação:\", e)\n",
        "        return None\n",
        "\n",
        "# Função para Obter Pilares da Cultura\n",
        "def obter_pilares(api_token):\n",
        "    # URL para obter os pilares da cultura\n",
        "    url = \"https://instance.fique.online/webhook/merge/88d8701e-a1d6-4fee-b15b-53e90dc1d126/listar_pilares/76b07f1dbf18eabde7b8e3611ab078daa0f34b094cc9856d20d6d0b15fb3b7a99f697e451d\"\n",
        "\n",
        "    all_pillars = []\n",
        "\n",
        "    # Parâmetros de página inicial\n",
        "    page = 0\n",
        "    per_page = 10\n",
        "\n",
        "    try:\n",
        "        while True:\n",
        "            params = {\n",
        "                \"page\": page,\n",
        "                \"api_token\": api_token\n",
        "            }\n",
        "\n",
        "            response = requests.get(url, params=params)\n",
        "\n",
        "            if response.status_code == 200:\n",
        "                print(response.json())\n",
        "                data = response.json().get(\"data\")\n",
        "                if not data:\n",
        "                    break\n",
        "                all_pillars.extend(data)\n",
        "                if response.json().get(\"next_page\"):\n",
        "                    page += 1\n",
        "                else:\n",
        "                    break\n",
        "            else:\n",
        "                print(\"Erro ao obter os pilares da cultura:\", response.text)\n",
        "                break\n",
        "    except Exception as e:\n",
        "        print(\"Erro ao obter pilares da cultura:\", e)\n",
        "\n",
        "    return all_pillars\n",
        "\n",
        "# Função para Enviar Resposta\n",
        "def enviar_resposta(api_token, all_pillars):\n",
        "    # URL para enviar a resposta\n",
        "    url = \"https://instance.fique.online/webhook/merge/88d8701e-a1d6-4fee-b15b-53e90dc1d126/envia_resposta/7b56940678e89802e02e1981a8657206d639f657d4c58efb8d8fb74814799d1c001ec121c6\"\n",
        "\n",
        "  # Convertendo os pilares em uma única string JSON\n",
        "     # Convertendo a lista de pilares em uma única string de texto\n",
        "    pilares_texto = \"\".join(pilares)\n",
        "    print(\"pilares\" + pilares_texto)\n",
        "\n",
        "    # Codificando a string em base64\n",
        "    pilares_base64 = base64.b64encode(pilares_texto.encode()).decode()\n",
        "\n",
        "    # Corpo da requisição\n",
        "    payload = {\n",
        "        \"data\": pilares_base64\n",
        "    }\n",
        "    params = {\n",
        "                \"api_token\": api_token\n",
        "            }\n",
        "\n",
        "    try:\n",
        "        response = requests.post(url, payload, params=params)\n",
        "        if response.status_code == 200:\n",
        "            print(\"Resposta enviada com sucesso!\")\n",
        "            print(\"Resposta da API:\", response.json())\n",
        "        else:\n",
        "            print(\"Erro ao enviar a resposta:\", response.text)\n",
        "    except Exception as e:\n",
        "        print(\"Erro ao enviar a resposta:\", e)"
      ]
    },
    {
      "cell_type": "code",
      "source": [
        "api_token = autenticar()\n",
        "pilares = obter_pilares(api_token)\n",
        "enviar_resposta(api_token,pilares)"
      ],
      "metadata": {
        "colab": {
          "base_uri": "https://localhost:8080/"
        },
        "id": "dNAqayiN-Gq-",
        "outputId": "074d8c29-c127-4892-bf93-6855f58353c0"
      },
      "execution_count": 18,
      "outputs": [
        {
          "output_type": "stream",
          "name": "stdout",
          "text": [
            "API Token obtido com sucesso: yObzWFzqFmXe7tL2hA2NZvUsUb6hoQz79FrDueFq\n",
            "{'data': 'Vamos crescer para sempre', 'more_items': 'true', 'next_page': '1'}\n",
            "{'data': 'Tudo pode mudar a qualquer momento', 'more_items': 'true', 'next_page': '2'}\n",
            "{'data': 'Somos pragmáticos', 'more_items': 'true', 'next_page': '3'}\n",
            "{'data': 'Somos inteligentes e ambiciosos', 'more_items': 'true', 'next_page': '4'}\n",
            "{'data': 'Juntos somos mais fortes', 'more_items': 'false', 'next_page': '5'}\n",
            "{'data': None, 'more_items': 'false', 'next_page': '6'}\n",
            "pilaresVamos crescer para sempreTudo pode mudar a qualquer momentoSomos pragmáticosSomos inteligentes e ambiciososJuntos somos mais fortes\n",
            "Resposta enviada com sucesso!\n",
            "Resposta da API: {'message': 'Resposta incorreta, reveja seu código!'}\n"
          ]
        }
      ]
    }
  ]
}